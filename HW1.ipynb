{
 "cells": [
  {
   "attachments": {},
   "cell_type": "markdown",
   "metadata": {},
   "source": [
    "**Part A**"
   ]
  },
  {
   "attachments": {},
   "cell_type": "markdown",
   "metadata": {},
   "source": [
    "1. Find the url for the mtcars dataset from the following website:\n",
    "\n",
    "https://vincentarelbundock.github.io/Rdatasets/datasets.html\n",
    "\n",
    "Read through the \"DOC\" file to understand the variables in the dataset, then use the following url to import the data using pandas read_csv function."
   ]
  },
  {
   "cell_type": "code",
   "execution_count": 3,
   "metadata": {},
   "outputs": [],
   "source": [
    "import pandas as pd \n",
    "data = pd.read_csv(\"mtcars.csv\")"
   ]
  },
  {
   "attachments": {},
   "cell_type": "markdown",
   "metadata": {},
   "source": [
    "2.  Display the first five rows of the data."
   ]
  },
  {
   "cell_type": "code",
   "execution_count": 4,
   "metadata": {},
   "outputs": [
    {
     "data": {
      "text/html": [
       "<div>\n",
       "<style scoped>\n",
       "    .dataframe tbody tr th:only-of-type {\n",
       "        vertical-align: middle;\n",
       "    }\n",
       "\n",
       "    .dataframe tbody tr th {\n",
       "        vertical-align: top;\n",
       "    }\n",
       "\n",
       "    .dataframe thead th {\n",
       "        text-align: right;\n",
       "    }\n",
       "</style>\n",
       "<table border=\"1\" class=\"dataframe\">\n",
       "  <thead>\n",
       "    <tr style=\"text-align: right;\">\n",
       "      <th></th>\n",
       "      <th>rownames</th>\n",
       "      <th>mpg</th>\n",
       "      <th>cyl</th>\n",
       "      <th>disp</th>\n",
       "      <th>hp</th>\n",
       "      <th>drat</th>\n",
       "      <th>wt</th>\n",
       "      <th>qsec</th>\n",
       "      <th>vs</th>\n",
       "      <th>am</th>\n",
       "      <th>gear</th>\n",
       "      <th>carb</th>\n",
       "    </tr>\n",
       "  </thead>\n",
       "  <tbody>\n",
       "    <tr>\n",
       "      <th>0</th>\n",
       "      <td>Mazda RX4</td>\n",
       "      <td>21.0</td>\n",
       "      <td>6</td>\n",
       "      <td>160.0</td>\n",
       "      <td>110</td>\n",
       "      <td>3.90</td>\n",
       "      <td>2.620</td>\n",
       "      <td>16.46</td>\n",
       "      <td>0</td>\n",
       "      <td>1</td>\n",
       "      <td>4</td>\n",
       "      <td>4</td>\n",
       "    </tr>\n",
       "    <tr>\n",
       "      <th>1</th>\n",
       "      <td>Mazda RX4 Wag</td>\n",
       "      <td>21.0</td>\n",
       "      <td>6</td>\n",
       "      <td>160.0</td>\n",
       "      <td>110</td>\n",
       "      <td>3.90</td>\n",
       "      <td>2.875</td>\n",
       "      <td>17.02</td>\n",
       "      <td>0</td>\n",
       "      <td>1</td>\n",
       "      <td>4</td>\n",
       "      <td>4</td>\n",
       "    </tr>\n",
       "    <tr>\n",
       "      <th>2</th>\n",
       "      <td>Datsun 710</td>\n",
       "      <td>22.8</td>\n",
       "      <td>4</td>\n",
       "      <td>108.0</td>\n",
       "      <td>93</td>\n",
       "      <td>3.85</td>\n",
       "      <td>2.320</td>\n",
       "      <td>18.61</td>\n",
       "      <td>1</td>\n",
       "      <td>1</td>\n",
       "      <td>4</td>\n",
       "      <td>1</td>\n",
       "    </tr>\n",
       "    <tr>\n",
       "      <th>3</th>\n",
       "      <td>Hornet 4 Drive</td>\n",
       "      <td>21.4</td>\n",
       "      <td>6</td>\n",
       "      <td>258.0</td>\n",
       "      <td>110</td>\n",
       "      <td>3.08</td>\n",
       "      <td>3.215</td>\n",
       "      <td>19.44</td>\n",
       "      <td>1</td>\n",
       "      <td>0</td>\n",
       "      <td>3</td>\n",
       "      <td>1</td>\n",
       "    </tr>\n",
       "    <tr>\n",
       "      <th>4</th>\n",
       "      <td>Hornet Sportabout</td>\n",
       "      <td>18.7</td>\n",
       "      <td>8</td>\n",
       "      <td>360.0</td>\n",
       "      <td>175</td>\n",
       "      <td>3.15</td>\n",
       "      <td>3.440</td>\n",
       "      <td>17.02</td>\n",
       "      <td>0</td>\n",
       "      <td>0</td>\n",
       "      <td>3</td>\n",
       "      <td>2</td>\n",
       "    </tr>\n",
       "  </tbody>\n",
       "</table>\n",
       "</div>"
      ],
      "text/plain": [
       "            rownames   mpg  cyl   disp   hp  drat     wt   qsec  vs  am  gear  \\\n",
       "0          Mazda RX4  21.0    6  160.0  110  3.90  2.620  16.46   0   1     4   \n",
       "1      Mazda RX4 Wag  21.0    6  160.0  110  3.90  2.875  17.02   0   1     4   \n",
       "2         Datsun 710  22.8    4  108.0   93  3.85  2.320  18.61   1   1     4   \n",
       "3     Hornet 4 Drive  21.4    6  258.0  110  3.08  3.215  19.44   1   0     3   \n",
       "4  Hornet Sportabout  18.7    8  360.0  175  3.15  3.440  17.02   0   0     3   \n",
       "\n",
       "   carb  \n",
       "0     4  \n",
       "1     4  \n",
       "2     1  \n",
       "3     1  \n",
       "4     2  "
      ]
     },
     "execution_count": 4,
     "metadata": {},
     "output_type": "execute_result"
    }
   ],
   "source": [
    "data.head(5)"
   ]
  },
  {
   "attachments": {},
   "cell_type": "markdown",
   "metadata": {},
   "source": [
    "3.  Calculate the average of the mpg column for all cars within each category of the cyl column."
   ]
  },
  {
   "cell_type": "code",
   "execution_count": 5,
   "metadata": {},
   "outputs": [
    {
     "data": {
      "text/plain": [
       "cyl\n",
       "4    26.663636\n",
       "6    19.742857\n",
       "8    15.100000\n",
       "Name: mpg, dtype: float64"
      ]
     },
     "execution_count": 5,
     "metadata": {},
     "output_type": "execute_result"
    }
   ],
   "source": [
    "grouped = data.groupby(['cyl'])\n",
    "#grouped.head(5)\n",
    "avg_mpg = grouped.mean(numeric_only=True)['mpg']\n",
    "avg_mpg"
   ]
  },
  {
   "attachments": {},
   "cell_type": "markdown",
   "metadata": {},
   "source": [
    "4.  Create a histogram using the mpg column"
   ]
  },
  {
   "cell_type": "code",
   "execution_count": 6,
   "metadata": {},
   "outputs": [
    {
     "data": {
      "text/plain": [
       "Text(0, 0.5, 'Frequency')"
      ]
     },
     "execution_count": 6,
     "metadata": {},
     "output_type": "execute_result"
    },
    {
     "data": {
      "image/png": "[encoded data removed]",
      "text/plain": [
       "<Figure size 640x480 with 1 Axes>"
      ]
     },
     "metadata": {},
     "output_type": "display_data"
    }
   ],
   "source": [
    "import numpy as np\n",
    "import matplotlib.pyplot as plt \n",
    "\n",
    "fig, ax = plt.subplots(1, 1)\n",
    "ax.hist(data['mpg'])\n",
    "\n",
    "ax.set_title(\"Histogram of Mpg Level\")\n",
    "ax.set_xlabel('Mpg Level')\n",
    "ax.set_ylabel('Frequency')"
   ]
  },
  {
   "attachments": {},
   "cell_type": "markdown",
   "metadata": {},
   "source": [
    "5. Choose two variables in the data and create a scatterplot."
   ]
  },
  {
   "cell_type": "code",
   "execution_count": 7,
   "metadata": {},
   "outputs": [
    {
     "data": {
      "text/plain": [
       "Text(0, 0.5, 'Weight (1000 lbs)')"
      ]
     },
     "execution_count": 7,
     "metadata": {},
     "output_type": "execute_result"
    },
    {
     "data": {
      "image/png": "[encoded data removed]",
      "text/plain": [
       "<Figure size 640x480 with 1 Axes>"
      ]
     },
     "metadata": {},
     "output_type": "display_data"
    }
   ],
   "source": [
    "fig, ax = plt.subplots(1, 1)\n",
    "ax.scatter(data.mpg, data.wt)\n",
    "ax.set_title(\"Scatter Plot of Mpg Level and Weight\")\n",
    "ax.set_xlabel(\"Mpg Level\")\n",
    "ax.set_ylabel(\"Weight (1000 lbs)\")"
   ]
  },
  {
   "attachments": {},
   "cell_type": "markdown",
   "metadata": {},
   "source": [
    "**Part B**"
   ]
  },
  {
   "attachments": {},
   "cell_type": "markdown",
   "metadata": {},
   "source": [
    "1. Find a tabular dataset that interests you that has \"tidy\" data.  (Tidy data has data that is ready for your data analysis.  For our tasks we want data with columns representing X and y data where columns represent variables and rows representing non repeating observations.  Give a brief description of the dataset.  Provide a citation of the dataset (any format is fine.)"
   ]
  },
  {
   "attachments": {},
   "cell_type": "markdown",
   "metadata": {},
   "source": [
    "The data I am using for analysis is retrieved from the Kaggle website and pertains to how unemployment rates change in 235 countries over thirty years (1991-2021). Each column represents a unique variable, represented here as a distinct time period, and each row contains nonrepetitive, unemployment rate values that fluctuate over time by country.\n",
    "\n",
    "\n",
    "Citation:\n",
    "https://www.kaggle.com/datasets/pantanjali/unemployment-dataset?resource=download"
   ]
  },
  {
   "cell_type": "code",
   "execution_count": 8,
   "metadata": {},
   "outputs": [],
   "source": [
    "unemp = pd.read_csv(\"unemployment analysis.csv\")"
   ]
  },
  {
   "attachments": {},
   "cell_type": "markdown",
   "metadata": {},
   "source": [
    "2. Display the first five rows of the data."
   ]
  },
  {
   "cell_type": "code",
   "execution_count": 9,
   "metadata": {},
   "outputs": [
    {
     "data": {
      "text/html": [
       "<div>\n",
       "<style scoped>\n",
       "    .dataframe tbody tr th:only-of-type {\n",
       "        vertical-align: middle;\n",
       "    }\n",
       "\n",
       "    .dataframe tbody tr th {\n",
       "        vertical-align: top;\n",
       "    }\n",
       "\n",
       "    .dataframe thead th {\n",
       "        text-align: right;\n",
       "    }\n",
       "</style>\n",
       "<table border=\"1\" class=\"dataframe\">\n",
       "  <thead>\n",
       "    <tr style=\"text-align: right;\">\n",
       "      <th></th>\n",
       "      <th>Country Name</th>\n",
       "      <th>Country Code</th>\n",
       "      <th>1991</th>\n",
       "      <th>1992</th>\n",
       "      <th>1993</th>\n",
       "      <th>1994</th>\n",
       "      <th>1995</th>\n",
       "      <th>1996</th>\n",
       "      <th>1997</th>\n",
       "      <th>1998</th>\n",
       "      <th>...</th>\n",
       "      <th>2012</th>\n",
       "      <th>2013</th>\n",
       "      <th>2014</th>\n",
       "      <th>2015</th>\n",
       "      <th>2016</th>\n",
       "      <th>2017</th>\n",
       "      <th>2018</th>\n",
       "      <th>2019</th>\n",
       "      <th>2020</th>\n",
       "      <th>2021</th>\n",
       "    </tr>\n",
       "  </thead>\n",
       "  <tbody>\n",
       "    <tr>\n",
       "      <th>0</th>\n",
       "      <td>Africa Eastern and Southern</td>\n",
       "      <td>AFE</td>\n",
       "      <td>7.80</td>\n",
       "      <td>7.84</td>\n",
       "      <td>7.85</td>\n",
       "      <td>7.84</td>\n",
       "      <td>7.83</td>\n",
       "      <td>7.84</td>\n",
       "      <td>7.86</td>\n",
       "      <td>7.81</td>\n",
       "      <td>...</td>\n",
       "      <td>6.56</td>\n",
       "      <td>6.45</td>\n",
       "      <td>6.41</td>\n",
       "      <td>6.49</td>\n",
       "      <td>6.61</td>\n",
       "      <td>6.71</td>\n",
       "      <td>6.73</td>\n",
       "      <td>6.91</td>\n",
       "      <td>7.56</td>\n",
       "      <td>8.11</td>\n",
       "    </tr>\n",
       "    <tr>\n",
       "      <th>1</th>\n",
       "      <td>Afghanistan</td>\n",
       "      <td>AFG</td>\n",
       "      <td>10.65</td>\n",
       "      <td>10.82</td>\n",
       "      <td>10.72</td>\n",
       "      <td>10.73</td>\n",
       "      <td>11.18</td>\n",
       "      <td>10.96</td>\n",
       "      <td>10.78</td>\n",
       "      <td>10.80</td>\n",
       "      <td>...</td>\n",
       "      <td>11.34</td>\n",
       "      <td>11.19</td>\n",
       "      <td>11.14</td>\n",
       "      <td>11.13</td>\n",
       "      <td>11.16</td>\n",
       "      <td>11.18</td>\n",
       "      <td>11.15</td>\n",
       "      <td>11.22</td>\n",
       "      <td>11.71</td>\n",
       "      <td>13.28</td>\n",
       "    </tr>\n",
       "    <tr>\n",
       "      <th>2</th>\n",
       "      <td>Africa Western and Central</td>\n",
       "      <td>AFW</td>\n",
       "      <td>4.42</td>\n",
       "      <td>4.53</td>\n",
       "      <td>4.55</td>\n",
       "      <td>4.54</td>\n",
       "      <td>4.53</td>\n",
       "      <td>4.57</td>\n",
       "      <td>4.60</td>\n",
       "      <td>4.66</td>\n",
       "      <td>...</td>\n",
       "      <td>4.64</td>\n",
       "      <td>4.41</td>\n",
       "      <td>4.69</td>\n",
       "      <td>4.63</td>\n",
       "      <td>5.57</td>\n",
       "      <td>6.02</td>\n",
       "      <td>6.04</td>\n",
       "      <td>6.06</td>\n",
       "      <td>6.77</td>\n",
       "      <td>6.84</td>\n",
       "    </tr>\n",
       "    <tr>\n",
       "      <th>3</th>\n",
       "      <td>Angola</td>\n",
       "      <td>AGO</td>\n",
       "      <td>4.21</td>\n",
       "      <td>4.21</td>\n",
       "      <td>4.23</td>\n",
       "      <td>4.16</td>\n",
       "      <td>4.11</td>\n",
       "      <td>4.10</td>\n",
       "      <td>4.09</td>\n",
       "      <td>4.07</td>\n",
       "      <td>...</td>\n",
       "      <td>7.35</td>\n",
       "      <td>7.37</td>\n",
       "      <td>7.37</td>\n",
       "      <td>7.39</td>\n",
       "      <td>7.41</td>\n",
       "      <td>7.41</td>\n",
       "      <td>7.42</td>\n",
       "      <td>7.42</td>\n",
       "      <td>8.33</td>\n",
       "      <td>8.53</td>\n",
       "    </tr>\n",
       "    <tr>\n",
       "      <th>4</th>\n",
       "      <td>Albania</td>\n",
       "      <td>ALB</td>\n",
       "      <td>10.31</td>\n",
       "      <td>30.01</td>\n",
       "      <td>25.26</td>\n",
       "      <td>20.84</td>\n",
       "      <td>14.61</td>\n",
       "      <td>13.93</td>\n",
       "      <td>16.88</td>\n",
       "      <td>20.05</td>\n",
       "      <td>...</td>\n",
       "      <td>13.38</td>\n",
       "      <td>15.87</td>\n",
       "      <td>18.05</td>\n",
       "      <td>17.19</td>\n",
       "      <td>15.42</td>\n",
       "      <td>13.62</td>\n",
       "      <td>12.30</td>\n",
       "      <td>11.47</td>\n",
       "      <td>13.33</td>\n",
       "      <td>11.82</td>\n",
       "    </tr>\n",
       "  </tbody>\n",
       "</table>\n",
       "<p>5 rows × 33 columns</p>\n",
       "</div>"
      ],
      "text/plain": [
       "                  Country Name Country Code   1991   1992   1993   1994  \\\n",
       "0  Africa Eastern and Southern          AFE   7.80   7.84   7.85   7.84   \n",
       "1                  Afghanistan          AFG  10.65  10.82  10.72  10.73   \n",
       "2   Africa Western and Central          AFW   4.42   4.53   4.55   4.54   \n",
       "3                       Angola          AGO   4.21   4.21   4.23   4.16   \n",
       "4                      Albania          ALB  10.31  30.01  25.26  20.84   \n",
       "\n",
       "    1995   1996   1997   1998  ...   2012   2013   2014   2015   2016   2017  \\\n",
       "0   7.83   7.84   7.86   7.81  ...   6.56   6.45   6.41   6.49   6.61   6.71   \n",
       "1  11.18  10.96  10.78  10.80  ...  11.34  11.19  11.14  11.13  11.16  11.18   \n",
       "2   4.53   4.57   4.60   4.66  ...   4.64   4.41   4.69   4.63   5.57   6.02   \n",
       "3   4.11   4.10   4.09   4.07  ...   7.35   7.37   7.37   7.39   7.41   7.41   \n",
       "4  14.61  13.93  16.88  20.05  ...  13.38  15.87  18.05  17.19  15.42  13.62   \n",
       "\n",
       "    2018   2019   2020   2021  \n",
       "0   6.73   6.91   7.56   8.11  \n",
       "1  11.15  11.22  11.71  13.28  \n",
       "2   6.04   6.06   6.77   6.84  \n",
       "3   7.42   7.42   8.33   8.53  \n",
       "4  12.30  11.47  13.33  11.82  \n",
       "\n",
       "[5 rows x 33 columns]"
      ]
     },
     "execution_count": 9,
     "metadata": {},
     "output_type": "execute_result"
    }
   ],
   "source": [
    "unemp.head(5)"
   ]
  },
  {
   "attachments": {},
   "cell_type": "markdown",
   "metadata": {},
   "source": [
    "3. Create a visualization using one (or two) variables from this data."
   ]
  },
  {
   "cell_type": "code",
   "execution_count": 16,
   "metadata": {},
   "outputs": [
    {
     "name": "stderr",
     "output_type": "stream",
     "text": [
      "/var/folders/2c/cd06n1c95mv7lsfybtv2zt1w0000gn/T/ipykernel_49545/2396957332.py:6: UserWarning: Ignoring `palette` because no `hue` variable has been assigned.\n",
      "  sns.scatterplot(x=\"1991\", y=\"2021\", data=unemp, palette=\"deep\")\n"
     ]
    },
    {
     "data": {
      "text/plain": [
       "Text(0, 0.5, 'Year 2021')"
      ]
     },
     "execution_count": 16,
     "metadata": {},
     "output_type": "execute_result"
    },
    {
     "data": {
      "image/png": "[encoded data removed]",
      "text/plain": [
       "<Figure size 640x480 with 1 Axes>"
      ]
     },
     "metadata": {},
     "output_type": "display_data"
    }
   ],
   "source": [
    "# unemp.set_index(\"Country Name\", inplace = True)\n",
    "# unemp.loc['United States']\n",
    "import seaborn as sns \n",
    "\n",
    "fig, ax = plt.subplots(1,1)\n",
    "sns.scatterplot(x=\"1991\", y=\"2021\", data=unemp, palette=\"deep\")\n",
    "#ax.scatter(unemp.loc[:, '1991'], unemp.loc[:, \"2021\"], palette=\"coolwarm\")\n",
    "ax.set_title(\"Unemployment Rate: Year 1991 vs. 2021\")\n",
    "ax.set_xlabel(\"Year 1991\")\n",
    "ax.set_ylabel(\"Year 2021\")"
   ]
  }
 ],
 "metadata": {
  "kernelspec": {
   "display_name": "Python 3",
   "language": "python",
   "name": "python3"
  },
  "language_info": {
   "codemirror_mode": {
    "name": "ipython",
    "version": 3
   },
   "file_extension": ".py",
   "mimetype": "text/x-python",
   "name": "python",
   "nbconvert_exporter": "python",
   "pygments_lexer": "ipython3",
   "version": "3.9.6"
  },
  "orig_nbformat": 4
 },
 "nbformat": 4,
 "nbformat_minor": 2
}
